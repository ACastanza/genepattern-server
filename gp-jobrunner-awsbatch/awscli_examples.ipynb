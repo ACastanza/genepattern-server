{
 "cells": [
  {
   "cell_type": "markdown",
   "metadata": {},
   "source": [
    "# AWS Batch system commands\n",
    "I use this notebook to test/develop/record/document system administration commands which are useful for managing the AWS Batch integration with various GenePattern Server instances. Most examples are run locall as shell commands by way of the ```%%bash``` built-in magic command.\n",
    "\n",
    "Hint: list all available magics\n",
    "```\n",
    "%lsmagic\n",
    "```\n",
    "Hint: display content in a colored block\n",
    "```html\n",
    "<div class=\"alert alert-block alert-info\">\n",
    "```"
   ]
  },
  {
   "cell_type": "markdown",
   "metadata": {
    "toc": true
   },
   "source": [
    "<h1>Table of Contents<span class=\"tocSkip\"></span></h1>\n",
    "<div class=\"toc\" style=\"margin-top: 1em;\"><ul class=\"toc-item\"><li><span><a href=\"#Links\" data-toc-modified-id=\"Links-1\">Links</a></span><ul class=\"toc-item\"><li><span><a href=\"#AWS\" data-toc-modified-id=\"AWS-1.1\">AWS</a></span></li><li><span><a href=\"#Other\" data-toc-modified-id=\"Other-1.2\">Other</a></span></li></ul></li><li><span><a href=\"#Commands\" data-toc-modified-id=\"Commands-2\">Commands</a></span><ul class=\"toc-item\"><li><span><a href=\"#initialize-awscli\" data-toc-modified-id=\"initialize-awscli-2.1\">initialize awscli</a></span></li><li><span><a href=\"#describe-job-queues\" data-toc-modified-id=\"describe-job-queues-2.2\">describe job queues</a></span></li><li><span><a href=\"#describe-job-definitions\" data-toc-modified-id=\"describe-job-definitions-2.3\">describe job definitions</a></span></li><li><span><a href=\"#list-failed-jobs\" data-toc-modified-id=\"list-failed-jobs-2.4\">list failed jobs</a></span></li><li><span><a href=\"#use-case:-job-details-for-a-failed-job\" data-toc-modified-id=\"use-case:-job-details-for-a-failed-job-2.5\">use-case: job details for a failed job</a></span></li></ul></li><li><span><a href=\"#SQL-Queries\" data-toc-modified-id=\"SQL-Queries-3\">SQL Queries</a></span></li><li><span><a href=\"#Parking-lot\" data-toc-modified-id=\"Parking-lot-4\">Parking lot</a></span><ul class=\"toc-item\"><li><span><a href=\"#(bash)-command-array\" data-toc-modified-id=\"(bash)-command-array-4.1\">(bash) command array</a></span></li></ul></li></ul></div>"
   ]
  },
  {
   "cell_type": "markdown",
   "metadata": {},
   "source": [
    "## Links\n",
    "\n",
    "### AWS\n",
    "* See: https://docs.aws.amazon.com/cli/\n",
    "* See: https://docs.aws.amazon.com/cli/latest/reference/batch/index.html\n",
    "* See: https://docs.aws.amazon.com/cli/latest/userguide/controlling-output.html#controlling-output-filter\n",
    "* See: http://jmespath.org/specification.html\n",
    "* See: http://opensourceconnections.com/blog/2015/07/27/advanced-aws-cli-jmespath-query/\n",
    "\n",
    "### Other\n",
    "* See: https://docs.python.org/3/\n",
    "* See: https://jupyter.readthedocs.io/en/latest/\n",
    "* See: https://jupyter-notebook.readthedocs.io/en/latest/\n",
    "* See: https://jupyter-notebook.readthedocs.io/en/latest/examples/Notebook/Working%20With%20Markdown%20Cells.html\n",
    "* See: https://datascience.ibm.com/docs/content/analyze-data/markd-jupyter.html\n",
    "* See: https://blog.dominodatalab.com/lesser-known-ways-of-using-notebooks/, example of how to use 'bash'\n",
    "* See: http://ipython.readthedocs.io/en/stable/interactive/magics.html\n"
   ]
  },
  {
   "cell_type": "markdown",
   "metadata": {},
   "source": [
    "## Commands"
   ]
  },
  {
   "cell_type": "markdown",
   "metadata": {},
   "source": [
    "### initialize awscli"
   ]
  },
  {
   "cell_type": "code",
   "execution_count": null,
   "metadata": {},
   "outputs": [],
   "source": [
    "%%bash -e\n",
    "# fail on first error\n",
    "#   bash -e ...\n",
    "#   set -e\n",
    "source activate awscli\n",
    "which aws"
   ]
  },
  {
   "cell_type": "markdown",
   "metadata": {},
   "source": [
    "### describe job queues\n",
    "command: [describe-job-queues](https://docs.aws.amazon.com/cli/latest/reference/batch/describe-job-queues.html)"
   ]
  },
  {
   "cell_type": "code",
   "execution_count": null,
   "metadata": {},
   "outputs": [],
   "source": [
    "%%bash -e\n",
    "# list all job queues\n",
    "aws batch describe-job-queues"
   ]
  },
  {
   "cell_type": "markdown",
   "metadata": {},
   "source": [
    "### describe job definitions\n",
    "command: [describe-job-definitions](https://docs.aws.amazon.com/cli/latest/reference/batch/describe-job-definitions.html)"
   ]
  },
  {
   "cell_type": "code",
   "execution_count": null,
   "metadata": {},
   "outputs": [],
   "source": [
    "%%bash -e\n",
    "aws batch describe-job-definitions"
   ]
  },
  {
   "cell_type": "code",
   "execution_count": null,
   "metadata": {},
   "outputs": [],
   "source": [
    "%%bash -e\n",
    "\n",
    "# show all job definitions, sorted \n",
    "#   sorted by jobDefinitionName asc\n",
    "#   sorted by revision descending\n",
    "#   see: https://stackoverflow.com/questions/39203630/linux-shell-sort-column-1-in-ascending-order-column-3-in-descending-order\n",
    "aws batch describe-job-definitions \\\n",
    "  --query 'jobDefinitions[*].[jobDefinitionName,revision]' \\\n",
    "  --output text \\\n",
    "| sort -k1,1f -k2,2nr\n"
   ]
  },
  {
   "cell_type": "code",
   "execution_count": null,
   "metadata": {},
   "outputs": [],
   "source": [
    "%%bash -e\n",
    "aws batch describe-job-definitions \\\n",
    "  --query 'jobDefinitions[*].{jobDefinitionName:jobDefinitionName}'"
   ]
  },
  {
   "cell_type": "code",
   "execution_count": null,
   "metadata": {},
   "outputs": [],
   "source": [
    "%%bash -e\n",
    "aws batch describe-job-definitions \\\n",
    "  --query 'jobDefinitions[*].{jobDefinitionName:jobDefinitionName,containerProperties_image:containerProperties.image}'"
   ]
  },
  {
   "cell_type": "markdown",
   "metadata": {},
   "source": [
    "### list failed jobs\n",
    "Command: [list-jobs](https://docs.aws.amazon.com/cli/latest/reference/batch/list-jobs.html)\n",
    "\n",
    "Example:\n",
    "```bash\n",
    "aws batch list-jobs --job-status FAILED --job-queue my-job-queue\n",
    "```\n",
    "--job-status = \n",
    "SUBMITTED | \n",
    "PENDING | \n",
    "RUNNABLE | \n",
    "STARTING | \n",
    "RUNNING | \n",
    "SUCCEEDED | \n",
    "FAILED"
   ]
  },
  {
   "cell_type": "code",
   "execution_count": null,
   "metadata": {
    "scrolled": true
   },
   "outputs": [],
   "source": [
    "# must set jobQueue as a python variable\n",
    "jobQueue = \"gpbeta-default\"\n",
    "\n",
    "%%bash -e -s \"$jobQueue\"\n",
    "\n",
    "# set bash variable from python variable\n",
    "jobQueue=\"${1}\"\n",
    "\n",
    "# init awscli\n",
    "source activate awscli\n",
    "\n",
    "# list failed jobs\n",
    "aws batch list-jobs \\\n",
    "  --job-queue $jobQueue \\\n",
    "  --job-status FAILED"
   ]
  },
  {
   "cell_type": "markdown",
   "metadata": {},
   "source": [
    "### use-case: job details for a failed job\n",
    "Given a GenePattern job number (e.g. 11813), make the necessary aws batch cli calls to track down the error message.\n",
    "\n",
    "Example command ('?jobName=='):\n",
    "```bash\n",
    "aws batch list-jobs \\\n",
    "  --job-queue gpbeta-default \\\n",
    "  --job-status FAILED \\\n",
    "  --query 'jobSummaryList[?jobName==`GP_Job_11813`]'\n",
    "```\n",
    "\n",
    "Example command ('?ends_with'):\n",
    "```bash\n",
    "aws batch list-jobs \\\n",
    "  --job-queue gpbeta-default \\\n",
    "  --job-status FAILED \\\n",
    "  --query 'jobSummaryList[?ends_with(jobName,`_11813`) == `true`].{jobId:jobId}'\n",
    "```\n",
    "\n",
    "Example command (with xargs):\n",
    "```bash\n",
    "aws batch list-jobs --job-queue gpbeta-default \\\n",
    "  --job-status 'FAILED' \\\n",
    "  '--query' \"jobSummaryList[*].{jobId:jobId}\" \\\n",
    "  --output text \\\n",
    "| xargs -I{} \\\n",
    "  aws batch describe-jobs --jobs {} \\\n",
    "    --query \"jobs[*].{jobName:jobName,image:container.image,reason:container.reason}\" \\\n",
    "    --output table\n",
    "```"
   ]
  },
  {
   "cell_type": "code",
   "execution_count": null,
   "metadata": {},
   "outputs": [],
   "source": [
    "# must set gpJobNo\n",
    "gpJobNo = \"11458\""
   ]
  },
  {
   "cell_type": "code",
   "execution_count": null,
   "metadata": {},
   "outputs": [],
   "source": [
    "%%bash -e -s \"$gpJobNo\"\n",
    "\n",
    "# set bash variable from python variable\n",
    "gpJobNo=\"${1}\"\n",
    "jobName=\"GP_Job_${gpJobNo}\"\n",
    "\n",
    "# init awscli\n",
    "source activate awscli\n",
    "\n",
    "#\n",
    "# step 1: get the aws batch jobId from the gp jobId\n",
    "#\n",
    "jobId=$(aws batch list-jobs \\\n",
    "  '--job-queue' 'gpbeta-default' \\\n",
    "  '--job-status' 'FAILED' \\\n",
    "  '--query' \"jobSummaryList[?ends_with(jobName,\\`_$gpJobNo\\`) == \\`true\\`].{jobId:jobId}\" \\\n",
    "  '--output' 'text')\n",
    "echo jobId=$jobId\n",
    "aws batch describe-jobs --jobs $jobId\n",
    "\n",
    "# alternative queries\n",
    "# take 1\n",
    "#   '--query' 'jobSummaryList[?jobName==`GP_Job_11813`]'\n",
    "# take 2\n",
    "#   query=\"jobSummaryList[?jobName==\\`$jobName\\`]\"\n",
    "#   '--query' \"${query}\""
   ]
  },
  {
   "cell_type": "code",
   "execution_count": null,
   "metadata": {},
   "outputs": [],
   "source": [
    "%%bash -e\n",
    "\n",
    "#\n",
    "# list recently FAILED jobs\n",
    "#\n",
    "aws batch list-jobs --job-queue gpbeta-default \\\n",
    "  --job-status 'FAILED' \\\n",
    "  '--query' \"jobSummaryList[*].{jobId:jobId}\" \\\n",
    "  --output text \\\n",
    "| xargs -I{} \\\n",
    "  aws batch describe-jobs --jobs {} \\\n",
    "    --query \"jobs[*].{jobName:jobName,image:container.image,reason:container.reason}\" \\\n",
    "    --output text\n",
    "#    \\\n",
    "#    --output table"
   ]
  },
  {
   "cell_type": "markdown",
   "metadata": {},
   "source": [
    "## SQL Queries\n",
    "Connect to the MySQL database with the ```pymysql.cursors``` library.\n",
    "\n",
    "* see: https://pymysql.readthedocs.io/en/latest/index.html"
   ]
  },
  {
   "cell_type": "code",
   "execution_count": null,
   "metadata": {},
   "outputs": [],
   "source": [
    "#\n",
    "# Note: must change to actual credentials\n",
    "#\n",
    "db_host = \"my-db-host\"\n",
    "db_port = 3306\n",
    "db_user = \"mydbuser\"\n",
    "db_password = \"mydbpassword\"\n",
    "db_schema = \"mydbschema\"\n",
    "%who"
   ]
  },
  {
   "cell_type": "code",
   "execution_count": null,
   "metadata": {},
   "outputs": [],
   "source": [
    "import pymysql.cursors\n",
    "\n",
    "# connect to the database\n",
    "db = pymysql.connect(\n",
    "    host=db_host,\n",
    "    port=db_port,\n",
    "    user=db_user,\n",
    "    password=db_password,\n",
    "    db=db_schema\n",
    ")\n",
    "\n",
    "try:\n",
    "    with db.cursor() as cursor:\n",
    "        sql = \"SELECT user_id, email from gp_user\"\n",
    "        cursor.execute(sql)\n",
    "        result = cursor.fetchall();\n",
    "        print(result);\n",
    "finally:\n",
    "    connection.close()            "
   ]
  },
  {
   "cell_type": "markdown",
   "metadata": {},
   "source": [
    "## Parking lot\n",
    "Parking lot for example code and other snippets."
   ]
  },
  {
   "cell_type": "markdown",
   "metadata": {},
   "source": [
    "### (bash) command array"
   ]
  },
  {
   "cell_type": "code",
   "execution_count": null,
   "metadata": {},
   "outputs": [],
   "source": [
    "%%bash\n",
    "\n",
    "# declare command line as an array\n",
    "cmd=()\n",
    "\n",
    "# add items to cmd\n",
    "cmd=(${cmd[@]} \"echo\" \"Hello, World!\")\n",
    "\n",
    "# print the command\n",
    "echo \"Command args ...\"\n",
    "printf '    %s\\n' \"${cmd[@]}\"\n",
    "\n",
    "# run the command\n",
    "echo \"Running command ...\"\n",
    "\"${cmd[@]}\""
   ]
  }
 ],
 "metadata": {
  "kernelspec": {
   "display_name": "Python 3",
   "language": "python",
   "name": "python3"
  },
  "language_info": {
   "codemirror_mode": {
    "name": "ipython",
    "version": 3
   },
   "file_extension": ".py",
   "mimetype": "text/x-python",
   "name": "python",
   "nbconvert_exporter": "python",
   "pygments_lexer": "ipython3",
   "version": "3.6.4"
  },
  "toc": {
   "nav_menu": {},
   "number_sections": false,
   "sideBar": true,
   "skip_h1_title": true,
   "toc_cell": true,
   "toc_position": {
    "height": "924px",
    "left": "0px",
    "right": "1354px",
    "top": "111px",
    "width": "235px"
   },
   "toc_section_display": "block",
   "toc_window_display": true
  }
 },
 "nbformat": 4,
 "nbformat_minor": 2
}
