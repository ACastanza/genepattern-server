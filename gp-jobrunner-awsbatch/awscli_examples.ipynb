{
 "cells": [
  {
   "cell_type": "markdown",
   "metadata": {
    "toc": true
   },
   "source": [
    "<h1>Table of Contents<span class=\"tocSkip\"></span></h1>\n",
    "<div class=\"toc\" style=\"margin-top: 1em;\"><ul class=\"toc-item\"><li><span><a href=\"#Example-system-commands\" data-toc-modified-id=\"Example-system-commands-1\"><span class=\"toc-item-num\">1&nbsp;&nbsp;</span>Example system commands</a></span></li><li><span><a href=\"#Useful-links\" data-toc-modified-id=\"Useful-links-2\"><span class=\"toc-item-num\">2&nbsp;&nbsp;</span>Useful links</a></span></li><li><span><a href=\"#Commands\" data-toc-modified-id=\"Commands-3\"><span class=\"toc-item-num\">3&nbsp;&nbsp;</span>Commands</a></span><ul class=\"toc-item\"><li><span><a href=\"#initialize-awscli\" data-toc-modified-id=\"initialize-awscli-3.1\"><span class=\"toc-item-num\">3.1&nbsp;&nbsp;</span>initialize awscli</a></span></li><li><span><a href=\"#list-job-queues\" data-toc-modified-id=\"list-job-queues-3.2\"><span class=\"toc-item-num\">3.2&nbsp;&nbsp;</span>list job queues</a></span></li><li><span><a href=\"#list-failed-jobs\" data-toc-modified-id=\"list-failed-jobs-3.3\"><span class=\"toc-item-num\">3.3&nbsp;&nbsp;</span>list failed jobs</a></span></li><li><span><a href=\"#use-case:-job-details-for-a-failed-job\" data-toc-modified-id=\"use-case:-job-details-for-a-failed-job-3.4\"><span class=\"toc-item-num\">3.4&nbsp;&nbsp;</span>use-case: job details for a failed job</a></span></li><li><span><a href=\"#use-case:-find-error-message-for-a-failed-job\" data-toc-modified-id=\"use-case:-find-error-message-for-a-failed-job-3.5\"><span class=\"toc-item-num\">3.5&nbsp;&nbsp;</span>use-case: find error message for a failed job</a></span></li></ul></li><li><span><a href=\"#Parking-lot\" data-toc-modified-id=\"Parking-lot-4\"><span class=\"toc-item-num\">4&nbsp;&nbsp;</span>Parking lot</a></span><ul class=\"toc-item\"><li><span><a href=\"#(bash)-command-array\" data-toc-modified-id=\"(bash)-command-array-4.1\"><span class=\"toc-item-num\">4.1&nbsp;&nbsp;</span>(bash) command array</a></span></li></ul></li></ul></div>"
   ]
  },
  {
   "cell_type": "code",
   "execution_count": null,
   "metadata": {
    "genepattern": {
     "server": "https://gp-beta-ami.genepattern.org/gp",
     "show_code": false,
     "type": "auth"
    },
    "scrolled": true
   },
   "outputs": [],
   "source": [
    "# Requires GenePattern Notebook: pip install genepattern-notebook\n",
    "import gp\n",
    "import genepattern\n",
    "\n",
    "# Username and password removed for security reasons.\n",
    "genepattern.GPAuthWidget(genepattern.register_session(\"https://gp-beta-ami.genepattern.org/gp\", \"\", \"\"))"
   ]
  },
  {
   "cell_type": "markdown",
   "metadata": {},
   "source": [
    "## Example system commands\n",
    "I'm using this notebook to record system administration commands which can come in handy for managing our various GenePattern Server instances. Most examples are run locally as shell commands by way of the ```%%bash``` built-in magic command.\n",
    "\n",
    "Hint: list all available magics\n",
    "```\n",
    "%lsmagic\n",
    "```\n",
    "Hint: display content in a colored block\n",
    "```html\n",
    "<div class=\"alert alert-block alert-info\">\n",
    "```\n",
    "\n",
    "## Useful links\n",
    "* See: https://docs.python.org/3/\n",
    "* See: https://jupyter.readthedocs.io/en/latest/\n",
    "* See: https://jupyter-notebook.readthedocs.io/en/latest/\n",
    "* See: https://jupyter-notebook.readthedocs.io/en/latest/examples/Notebook/Working%20With%20Markdown%20Cells.html\n",
    "* See: https://datascience.ibm.com/docs/content/analyze-data/markd-jupyter.html\n",
    "* See: https://blog.dominodatalab.com/lesser-known-ways-of-using-notebooks/, example of how to use 'bash'\n",
    "* See: http://ipython.readthedocs.io/en/stable/interactive/magics.html\n",
    "* See: https://docs.aws.amazon.com/cli/latest/userguide/controlling-output.html#controlling-output-filter\n",
    "* See: http://jmespath.org/specification.html\n",
    "* See: http://opensourceconnections.com/blog/2015/07/27/advanced-aws-cli-jmespath-query/"
   ]
  },
  {
   "cell_type": "markdown",
   "metadata": {},
   "source": [
    "## Commands"
   ]
  },
  {
   "cell_type": "markdown",
   "metadata": {},
   "source": [
    "### initialize awscli"
   ]
  },
  {
   "cell_type": "code",
   "execution_count": null,
   "metadata": {},
   "outputs": [],
   "source": [
    "%%bash -e\n",
    "# fail on first error\n",
    "#   bash -e ...\n",
    "#   set -e\n",
    "source activate awscli\n",
    "which aws"
   ]
  },
  {
   "cell_type": "markdown",
   "metadata": {},
   "source": [
    "### list job queues"
   ]
  },
  {
   "cell_type": "code",
   "execution_count": null,
   "metadata": {},
   "outputs": [],
   "source": [
    "%%bash -e\n",
    "# list all job queues\n",
    "aws batch describe-job-queues"
   ]
  },
  {
   "cell_type": "markdown",
   "metadata": {},
   "source": [
    "### list failed jobs\n",
    "Example command:\n",
    "```bash\n",
    "aws batch list-jobs --job-status FAILED --job-queue gpbeta-default\n",
    "```"
   ]
  },
  {
   "cell_type": "code",
   "execution_count": null,
   "metadata": {},
   "outputs": [],
   "source": [
    "# must set jobQueue as a python variable\n",
    "jobQueue = \"gpbeta-default\""
   ]
  },
  {
   "cell_type": "code",
   "execution_count": null,
   "metadata": {
    "scrolled": true
   },
   "outputs": [],
   "source": [
    "%%bash -e -s \"$jobQueue\"\n",
    "\n",
    "# set bash variable from python variable\n",
    "jobQueue=\"${1}\"\n",
    "\n",
    "# init awscli\n",
    "source activate awscli\n",
    "\n",
    "# list failed jobs\n",
    "aws batch list-jobs \\\n",
    "  --job-queue $jobQueue \\\n",
    "  --job-status FAILED"
   ]
  },
  {
   "cell_type": "markdown",
   "metadata": {},
   "source": [
    "### use-case: job details for a failed job\n",
    "Given a GenePattern job number (e.g. 11813), make the necessary aws batch cli calls to track down the error message.\n",
    "\n",
    "Example command:\n",
    "```bash\n",
    "aws batch list-jobs \\\n",
    "  --job-queue gpbeta-default \\\n",
    "  --job-status FAILED \\\n",
    "  --query 'jobSummaryList[?jobName==`GP_Job_11813`]'\n",
    "```\n",
    "\n",
    "Example command:\n",
    "```bash\n",
    "aws batch list-jobs \\\n",
    "  --job-queue gpbeta-default \\\n",
    "  --job-status FAILED \\\n",
    "  --query 'jobSummaryList[?ends_with(jobName,`_11813`) == `true`].{jobId:jobId}'\n",
    "```"
   ]
  },
  {
   "cell_type": "code",
   "execution_count": null,
   "metadata": {},
   "outputs": [],
   "source": [
    "# must set gpJobNo\n",
    "gpJobNo = \"11813\""
   ]
  },
  {
   "cell_type": "code",
   "execution_count": 144,
   "metadata": {},
   "outputs": [
    {
     "name": "stdout",
     "output_type": "stream",
     "text": [
      "jobId=eee65873-3853-4d36-b97b-353e5a72a764\n",
      "{\n",
      "    \"jobs\": [\n",
      "        {\n",
      "            \"jobName\": \"GP_Job_11813\",\n",
      "            \"jobId\": \"eee65873-3853-4d36-b97b-353e5a72a764\",\n",
      "            \"jobQueue\": \"arn:aws:batch:us-east-1:718039241689:job-queue/gpbeta-default\",\n",
      "            \"status\": \"FAILED\",\n",
      "            \"attempts\": [\n",
      "                {\n",
      "                    \"container\": {\n",
      "                        \"containerInstanceArn\": \"arn:aws:ecs:us-east-1:718039241689:container-instance/377fb7ae-3468-464a-91eb-56e94c7f799d\",\n",
      "                        \"taskArn\": \"arn:aws:ecs:us-east-1:718039241689:task/ede07b08-09cf-41c5-874f-4e4b514bc435\",\n",
      "                        \"reason\": \"CannotPullContainerError: error pulling image configuration: Get https://docker-images-prod.s3.amazonaws.com/registry-v2/docker/registry/v2/blobs/sha256/0a/0a9b86cca7afdce9f18628f199d8c0819deaf801b8bf939d953318a5ca2a89e5/data?X-Amz-Algorithm=AWS4-HMAC-SHA\",\n",
      "                        \"logStreamName\": \"R25_Generic/default/ede07b08-09cf-41c5-874f-4e4b514bc435\"\n",
      "                    },\n",
      "                    \"stoppedAt\": 1517299367865,\n",
      "                    \"statusReason\": \"Essential container in task exited\"\n",
      "                }\n",
      "            ],\n",
      "            \"statusReason\": \"Essential container in task exited\",\n",
      "            \"createdAt\": 1517299212417,\n",
      "            \"stoppedAt\": 1517299367865,\n",
      "            \"dependsOn\": [],\n",
      "            \"jobDefinition\": \"arn:aws:batch:us-east-1:718039241689:job-definition/R25_Generic:4\",\n",
      "            \"parameters\": {\n",
      "                \"exe1\": \"/opt/gpbeta/gp_home/jobResults/11813.meta/exec.sh\",\n",
      "                \"s3_root\": \"s3://gpbeta\",\n",
      "                \"inputFileDirectory\": \"/opt/gpbeta/gp_home/jobResults/11813/.inputs_for_11813\",\n",
      "                \"working_dir\": \"/opt/gpbeta/gp_home/jobResults/11813\",\n",
      "                \"taskLib\": \"/opt/gpbeta/gp_home/taskLib/CoxRegression.1.3.225\"\n",
      "            },\n",
      "            \"container\": {\n",
      "                \"image\": \"genepattern/docker-r-2-5\",\n",
      "                \"vcpus\": 1,\n",
      "                \"memory\": 2000,\n",
      "                \"command\": [\n",
      "                    \"/usr/local/bin/runS3OnBatch.sh\",\n",
      "                    \"/opt/gpbeta/gp_home/taskLib/CoxRegression.1.3.225\",\n",
      "                    \"/opt/gpbeta/gp_home/jobResults/11813/.inputs_for_11813\",\n",
      "                    \"s3://gpbeta\",\n",
      "                    \"/opt/gpbeta/gp_home/jobResults/11813\",\n",
      "                    \"/opt/gpbeta/gp_home/jobResults/11813.meta/exec.sh\"\n",
      "                ],\n",
      "                \"jobRoleArn\": \"arn:aws:iam::718039241689:role/BATCH-EFS-ROLE\",\n",
      "                \"volumes\": [],\n",
      "                \"environment\": [\n",
      "                    {\n",
      "                        \"name\": \"GP_METADATA_DIR\",\n",
      "                        \"value\": \"/opt/gpbeta/gp_home/jobResults/11813.meta\"\n",
      "                    },\n",
      "                    {\n",
      "                        \"name\": \"STDOUT_FILENAME\",\n",
      "                        \"value\": \"/opt/gpbeta/gp_home/jobResults/11813.meta/stdout.txt\"\n",
      "                    },\n",
      "                    {\n",
      "                        \"name\": \"STDERR_FILENAME\",\n",
      "                        \"value\": \"/opt/gpbeta/gp_home/jobResults/11813.meta/stderr.txt\"\n",
      "                    }\n",
      "                ],\n",
      "                \"mountPoints\": [],\n",
      "                \"ulimits\": [],\n",
      "                \"reason\": \"CannotPullContainerError: error pulling image configuration: Get https://docker-images-prod.s3.amazonaws.com/registry-v2/docker/registry/v2/blobs/sha256/0a/0a9b86cca7afdce9f18628f199d8c0819deaf801b8bf939d953318a5ca2a89e5/data?X-Amz-Algorithm=AWS4-HMAC-SHA\",\n",
      "                \"containerInstanceArn\": \"arn:aws:ecs:us-east-1:718039241689:container-instance/377fb7ae-3468-464a-91eb-56e94c7f799d\",\n",
      "                \"taskArn\": \"arn:aws:ecs:us-east-1:718039241689:task/ede07b08-09cf-41c5-874f-4e4b514bc435\",\n",
      "                \"logStreamName\": \"R25_Generic/default/ede07b08-09cf-41c5-874f-4e4b514bc435\"\n",
      "            }\n",
      "        }\n",
      "    ]\n",
      "}\n"
     ]
    }
   ],
   "source": [
    "%%bash -e -s \"$gpJobNo\"\n",
    "\n",
    "# set bash variable from python variable\n",
    "gpJobNo=\"${1}\"\n",
    "jobName=\"GP_Job_${gpJobNo}\"\n",
    "\n",
    "# init awscli\n",
    "#source activate awscli\n",
    "\n",
    "#\n",
    "# step 1: get the aws batch jobId from the gp jobId\n",
    "#\n",
    "jobId=$(aws batch list-jobs \\\n",
    "  '--job-queue' 'gpbeta-default' \\\n",
    "  '--job-status' 'FAILED' \\\n",
    "  '--query' \"jobSummaryList[?ends_with(jobName,\\`_$gpJobNo\\`) == \\`true\\`].{jobId:jobId}\" \\\n",
    "  '--output' 'text')\n",
    "echo jobId=$jobId\n",
    "aws batch describe-jobs --jobs $jobId\n",
    "\n",
    "# alternative queries\n",
    "# take 1\n",
    "#   '--query' 'jobSummaryList[?jobName==`GP_Job_11813`]'\n",
    "# take 2\n",
    "#   query=\"jobSummaryList[?jobName==\\`$jobName\\`]\"\n",
    "#   '--query' \"${query}\""
   ]
  },
  {
   "cell_type": "markdown",
   "metadata": {},
   "source": [
    "## Parking lot\n",
    "Parking lot for example code and other snippets."
   ]
  },
  {
   "cell_type": "markdown",
   "metadata": {},
   "source": [
    "### (bash) command array"
   ]
  },
  {
   "cell_type": "code",
   "execution_count": null,
   "metadata": {},
   "outputs": [],
   "source": [
    "%%bash\n",
    "\n",
    "# declare command line as an array\n",
    "cmd=()\n",
    "\n",
    "# add items to cmd\n",
    "cmd=(${cmd[@]} \"echo\" \"Hello, World!\")\n",
    "\n",
    "# print the command\n",
    "echo \"Command args ...\"\n",
    "printf '    %s\\n' \"${cmd[@]}\"\n",
    "\n",
    "# run the command\n",
    "echo \"Running command ...\"\n",
    "\"${cmd[@]}\""
   ]
  }
 ],
 "metadata": {
  "kernelspec": {
   "display_name": "Python 3",
   "language": "python",
   "name": "python3"
  },
  "language_info": {
   "codemirror_mode": {
    "name": "ipython",
    "version": 3
   },
   "file_extension": ".py",
   "mimetype": "text/x-python",
   "name": "python",
   "nbconvert_exporter": "python",
   "pygments_lexer": "ipython3",
   "version": "3.6.4"
  },
  "toc": {
   "nav_menu": {},
   "number_sections": true,
   "sideBar": true,
   "skip_h1_title": true,
   "toc_cell": true,
   "toc_position": {},
   "toc_section_display": "block",
   "toc_window_display": true
  }
 },
 "nbformat": 4,
 "nbformat_minor": 2
}
