{
 "cells": [
  {
   "cell_type": "markdown",
   "metadata": {},
   "source": [
    "# AWS Batch system commands\n",
    "I use this notebook to test/develop/record/document system administration commands which are useful for managing the AWS Batch integration with various GenePattern Server instances. Most examples are run locall as shell commands by way of the ```%%bash``` built-in magic command.\n",
    "\n",
    "Hint: list all available magics\n",
    "```\n",
    "%lsmagic\n",
    "```\n",
    "Hint: display content in a colored block\n",
    "```html\n",
    "<div class=\"alert alert-block alert-info\">\n",
    "```"
   ]
  },
  {
   "cell_type": "markdown",
   "metadata": {
    "toc": true
   },
   "source": [
    "<h1>Table of Contents<span class=\"tocSkip\"></span></h1>\n",
    "<div class=\"toc\" style=\"margin-top: 1em;\"><ul class=\"toc-item\"><li><span><a href=\"#Useful-links\" data-toc-modified-id=\"Useful-links-1\">Useful links</a></span></li><li><span><a href=\"#Commands\" data-toc-modified-id=\"Commands-2\">Commands</a></span><ul class=\"toc-item\"><li><span><a href=\"#initialize-awscli\" data-toc-modified-id=\"initialize-awscli-2.1\">initialize awscli</a></span></li><li><span><a href=\"#list-job-queues\" data-toc-modified-id=\"list-job-queues-2.2\">list job queues</a></span></li><li><span><a href=\"#list-failed-jobs\" data-toc-modified-id=\"list-failed-jobs-2.3\">list failed jobs</a></span></li><li><span><a href=\"#use-case:-job-details-for-a-failed-job\" data-toc-modified-id=\"use-case:-job-details-for-a-failed-job-2.4\">use-case: job details for a failed job</a></span></li></ul></li><li><span><a href=\"#Parking-lot\" data-toc-modified-id=\"Parking-lot-3\">Parking lot</a></span><ul class=\"toc-item\"><li><span><a href=\"#(bash)-command-array\" data-toc-modified-id=\"(bash)-command-array-3.1\">(bash) command array</a></span></li></ul></li></ul></div>"
   ]
  },
  {
   "cell_type": "markdown",
   "metadata": {},
   "source": [
    "## Useful links\n",
    "* See: https://docs.python.org/3/\n",
    "* See: https://jupyter.readthedocs.io/en/latest/\n",
    "* See: https://jupyter-notebook.readthedocs.io/en/latest/\n",
    "* See: https://jupyter-notebook.readthedocs.io/en/latest/examples/Notebook/Working%20With%20Markdown%20Cells.html\n",
    "* See: https://datascience.ibm.com/docs/content/analyze-data/markd-jupyter.html\n",
    "* See: https://blog.dominodatalab.com/lesser-known-ways-of-using-notebooks/, example of how to use 'bash'\n",
    "* See: http://ipython.readthedocs.io/en/stable/interactive/magics.html\n",
    "* See: https://docs.aws.amazon.com/cli/latest/userguide/controlling-output.html#controlling-output-filter\n",
    "* See: http://jmespath.org/specification.html\n",
    "* See: http://opensourceconnections.com/blog/2015/07/27/advanced-aws-cli-jmespath-query/"
   ]
  },
  {
   "cell_type": "markdown",
   "metadata": {},
   "source": [
    "## Commands"
   ]
  },
  {
   "cell_type": "markdown",
   "metadata": {},
   "source": [
    "### initialize awscli"
   ]
  },
  {
   "cell_type": "code",
   "execution_count": null,
   "metadata": {},
   "outputs": [],
   "source": [
    "%%bash -e\n",
    "# fail on first error\n",
    "#   bash -e ...\n",
    "#   set -e\n",
    "source activate awscli\n",
    "which aws"
   ]
  },
  {
   "cell_type": "markdown",
   "metadata": {},
   "source": [
    "### list job queues"
   ]
  },
  {
   "cell_type": "code",
   "execution_count": null,
   "metadata": {},
   "outputs": [],
   "source": [
    "%%bash -e\n",
    "# list all job queues\n",
    "aws batch describe-job-queues"
   ]
  },
  {
   "cell_type": "markdown",
   "metadata": {},
   "source": [
    "### list failed jobs\n",
    "Example command:\n",
    "```bash\n",
    "aws batch list-jobs --job-status FAILED --job-queue gpbeta-default\n",
    "```"
   ]
  },
  {
   "cell_type": "code",
   "execution_count": null,
   "metadata": {},
   "outputs": [],
   "source": [
    "# must set jobQueue as a python variable\n",
    "jobQueue = \"gpbeta-default\""
   ]
  },
  {
   "cell_type": "code",
   "execution_count": null,
   "metadata": {
    "scrolled": true
   },
   "outputs": [],
   "source": [
    "%%bash -e -s \"$jobQueue\"\n",
    "\n",
    "# set bash variable from python variable\n",
    "jobQueue=\"${1}\"\n",
    "\n",
    "# init awscli\n",
    "source activate awscli\n",
    "\n",
    "# list failed jobs\n",
    "aws batch list-jobs \\\n",
    "  --job-queue $jobQueue \\\n",
    "  --job-status FAILED"
   ]
  },
  {
   "cell_type": "markdown",
   "metadata": {},
   "source": [
    "### use-case: job details for a failed job\n",
    "Given a GenePattern job number (e.g. 11813), make the necessary aws batch cli calls to track down the error message.\n",
    "\n",
    "Example command:\n",
    "```bash\n",
    "aws batch list-jobs \\\n",
    "  --job-queue gpbeta-default \\\n",
    "  --job-status FAILED \\\n",
    "  --query 'jobSummaryList[?jobName==`GP_Job_11813`]'\n",
    "```\n",
    "\n",
    "Example command:\n",
    "```bash\n",
    "aws batch list-jobs \\\n",
    "  --job-queue gpbeta-default \\\n",
    "  --job-status FAILED \\\n",
    "  --query 'jobSummaryList[?ends_with(jobName,`_11813`) == `true`].{jobId:jobId}'\n",
    "```"
   ]
  },
  {
   "cell_type": "code",
   "execution_count": 146,
   "metadata": {},
   "outputs": [],
   "source": [
    "# must set gpJobNo\n",
    "gpJobNo = \"11946\""
   ]
  },
  {
   "cell_type": "code",
   "execution_count": null,
   "metadata": {},
   "outputs": [],
   "source": [
    "%%bash -e -s \"$gpJobNo\"\n",
    "\n",
    "# set bash variable from python variable\n",
    "gpJobNo=\"${1}\"\n",
    "jobName=\"GP_Job_${gpJobNo}\"\n",
    "\n",
    "# init awscli\n",
    "#source activate awscli\n",
    "\n",
    "#\n",
    "# step 1: get the aws batch jobId from the gp jobId\n",
    "#\n",
    "jobId=$(aws batch list-jobs \\\n",
    "  '--job-queue' 'gpbeta-default' \\\n",
    "  '--job-status' 'FAILED' \\\n",
    "  '--query' \"jobSummaryList[?ends_with(jobName,\\`_$gpJobNo\\`) == \\`true\\`].{jobId:jobId}\" \\\n",
    "  '--output' 'text')\n",
    "echo jobId=$jobId\n",
    "aws batch describe-jobs --jobs $jobId\n",
    "\n",
    "# alternative queries\n",
    "# take 1\n",
    "#   '--query' 'jobSummaryList[?jobName==`GP_Job_11813`]'\n",
    "# take 2\n",
    "#   query=\"jobSummaryList[?jobName==\\`$jobName\\`]\"\n",
    "#   '--query' \"${query}\""
   ]
  },
  {
   "cell_type": "markdown",
   "metadata": {},
   "source": [
    "## Parking lot\n",
    "Parking lot for example code and other snippets."
   ]
  },
  {
   "cell_type": "markdown",
   "metadata": {},
   "source": [
    "### (bash) command array"
   ]
  },
  {
   "cell_type": "code",
   "execution_count": null,
   "metadata": {},
   "outputs": [],
   "source": [
    "%%bash\n",
    "\n",
    "# declare command line as an array\n",
    "cmd=()\n",
    "\n",
    "# add items to cmd\n",
    "cmd=(${cmd[@]} \"echo\" \"Hello, World!\")\n",
    "\n",
    "# print the command\n",
    "echo \"Command args ...\"\n",
    "printf '    %s\\n' \"${cmd[@]}\"\n",
    "\n",
    "# run the command\n",
    "echo \"Running command ...\"\n",
    "\"${cmd[@]}\""
   ]
  }
 ],
 "metadata": {
  "kernelspec": {
   "display_name": "Python 3",
   "language": "python",
   "name": "python3"
  },
  "language_info": {
   "codemirror_mode": {
    "name": "ipython",
    "version": 3
   },
   "file_extension": ".py",
   "mimetype": "text/x-python",
   "name": "python",
   "nbconvert_exporter": "python",
   "pygments_lexer": "ipython3",
   "version": "3.6.4"
  },
  "toc": {
   "nav_menu": {},
   "number_sections": false,
   "sideBar": true,
   "skip_h1_title": true,
   "toc_cell": true,
   "toc_position": {
    "height": "924px",
    "left": "0px",
    "right": "1354px",
    "top": "111px",
    "width": "235px"
   },
   "toc_section_display": "block",
   "toc_window_display": true
  }
 },
 "nbformat": 4,
 "nbformat_minor": 2
}
