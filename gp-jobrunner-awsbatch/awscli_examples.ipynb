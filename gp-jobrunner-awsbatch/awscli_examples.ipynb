{
 "cells": [
  {
   "cell_type": "markdown",
   "metadata": {},
   "source": [
    "# AWS system commands\n",
    "I use this notebook to test/develop/record/document system administration commands which are useful for managing the AWS Batch integration with various GenePattern Server instances. Most examples are run locally as shell commands by way of the ```%%bash``` built-in magic command."
   ]
  },
  {
   "cell_type": "markdown",
   "metadata": {},
   "source": [
    "### initialize awscli"
   ]
  },
  {
   "cell_type": "code",
   "execution_count": null,
   "metadata": {},
   "outputs": [],
   "source": [
    "%%bash -e\n",
    "# fail on first error\n",
    "#   bash -e ...\n",
    "#   set -e\n",
    "source activate awscli\n",
    "which aws"
   ]
  },
  {
   "cell_type": "markdown",
   "metadata": {},
   "source": [
    "## aws batch commands"
   ]
  },
  {
   "cell_type": "markdown",
   "metadata": {},
   "source": [
    "### describe job queues\n",
    "command: [describe-job-queues](https://docs.aws.amazon.com/cli/latest/reference/batch/describe-job-queues.html)"
   ]
  },
  {
   "cell_type": "code",
   "execution_count": null,
   "metadata": {},
   "outputs": [],
   "source": [
    "%%bash -e\n",
    "# list all job queues\n",
    "aws batch describe-job-queues"
   ]
  },
  {
   "cell_type": "markdown",
   "metadata": {},
   "source": [
    "### describe job definitions\n",
    "command: [describe-job-definitions](https://docs.aws.amazon.com/cli/latest/reference/batch/describe-job-definitions.html)"
   ]
  },
  {
   "cell_type": "code",
   "execution_count": null,
   "metadata": {},
   "outputs": [],
   "source": [
    "%%bash -e\n",
    "aws batch describe-job-definitions"
   ]
  },
  {
   "cell_type": "code",
   "execution_count": null,
   "metadata": {},
   "outputs": [],
   "source": [
    "%%bash -e\n",
    "\n",
    "# show all job definitions, sorted \n",
    "#   sorted by jobDefinitionName asc\n",
    "#   sorted by revision descending\n",
    "#   see: https://stackoverflow.com/questions/39203630/linux-shell-sort-column-1-in-ascending-order-column-3-in-descending-order\n",
    "aws batch describe-job-definitions \\\n",
    "  --query 'jobDefinitions[*].[jobDefinitionName,revision,containerProperties.image]' \\\n",
    "  --output text \\\n",
    "| sort -k1,1f -k2,2nr\n"
   ]
  },
  {
   "cell_type": "code",
   "execution_count": null,
   "metadata": {},
   "outputs": [],
   "source": [
    "%%bash -e\n",
    "aws batch describe-job-definitions \\\n",
    "  --query 'jobDefinitions[*].{jobDefinitionName:jobDefinitionName}'"
   ]
  },
  {
   "cell_type": "code",
   "execution_count": null,
   "metadata": {},
   "outputs": [],
   "source": [
    "%%bash -e\n",
    "aws batch describe-job-definitions \\\n",
    "  --query 'jobDefinitions[*].{jobDefinitionName:jobDefinitionName,containerProperties_image:containerProperties.image}' \\\n",
    "  --output text | sort"
   ]
  },
  {
   "cell_type": "markdown",
   "metadata": {},
   "source": [
    "### get container details\n",
    "For a given, completed GenePattern job, how do I know what version of the docker image was used?"
   ]
  },
  {
   "cell_type": "code",
   "execution_count": null,
   "metadata": {},
   "outputs": [],
   "source": [
    "%%bash -e\n",
    "job_id=\"73543554-6065-4b06-b540-4c8b0521bc2b\"\n",
    "aws batch describe-jobs --jobs ${job_id}"
   ]
  },
  {
   "cell_type": "markdown",
   "metadata": {},
   "source": [
    "### list failed jobs\n",
    "command: [list-jobs](https://docs.aws.amazon.com/cli/latest/reference/batch/list-jobs.html)\n",
    "\n",
    "Example:\n",
    "```bash\n",
    "aws batch list-jobs --job-status FAILED --job-queue my-job-queue\n",
    "```\n",
    "--job-status = \n",
    "SUBMITTED | \n",
    "PENDING | \n",
    "RUNNABLE | \n",
    "STARTING | \n",
    "RUNNING | \n",
    "SUCCEEDED | \n",
    "FAILED"
   ]
  },
  {
   "cell_type": "code",
   "execution_count": null,
   "metadata": {
    "scrolled": true
   },
   "outputs": [],
   "source": [
    "# must set jobQueue as a python variable\n",
    "jobQueue = \"gpbeta-default\"\n",
    "\n",
    "%%bash -e -s \"$jobQueue\"\n",
    "\n",
    "# set bash variable from python variable\n",
    "jobQueue=\"${1}\"\n",
    "\n",
    "# init awscli\n",
    "source activate awscli\n",
    "\n",
    "# list failed jobs\n",
    "aws batch list-jobs \\\n",
    "  --job-queue $jobQueue \\\n",
    "  --job-status FAILED"
   ]
  },
  {
   "cell_type": "markdown",
   "metadata": {},
   "source": [
    "### use-case: job details for a failed job\n",
    "Given a GenePattern job number (e.g. 11813), make the necessary aws batch cli calls to track down the error message.\n",
    "\n",
    "Example command ('?jobName=='):\n",
    "```bash\n",
    "aws batch list-jobs \\\n",
    "  --job-queue gpbeta-default \\\n",
    "  --job-status FAILED \\\n",
    "  --query 'jobSummaryList[?jobName==`GP_Job_11813`]'\n",
    "```\n",
    "\n",
    "Example command ('?ends_with'):\n",
    "```bash\n",
    "aws batch list-jobs \\\n",
    "  --job-queue gpbeta-default \\\n",
    "  --job-status FAILED \\\n",
    "  --query 'jobSummaryList[?ends_with(jobName,`_11813`) == `true`].{jobId:jobId}'\n",
    "```\n",
    "\n",
    "Example command (with xargs):\n",
    "```bash\n",
    "aws batch list-jobs --job-queue gpbeta-default \\\n",
    "  --job-status 'FAILED' \\\n",
    "  '--query' \"jobSummaryList[*].{jobId:jobId}\" \\\n",
    "  --output text \\\n",
    "| xargs -I{} \\\n",
    "  aws batch describe-jobs --jobs {} \\\n",
    "    --query \"jobs[*].{jobName:jobName,image:container.image,reason:container.reason}\" \\\n",
    "    --output table\n",
    "```"
   ]
  },
  {
   "cell_type": "code",
   "execution_count": null,
   "metadata": {},
   "outputs": [],
   "source": [
    "# must set gpJobNo\n",
    "gpJobNo = \"11458\""
   ]
  },
  {
   "cell_type": "code",
   "execution_count": null,
   "metadata": {},
   "outputs": [],
   "source": [
    "%%bash -e -s \"$gpJobNo\"\n",
    "\n",
    "# set bash variable from python variable\n",
    "gpJobNo=\"${1}\"\n",
    "jobName=\"GP_Job_${gpJobNo}\"\n",
    "\n",
    "# init awscli\n",
    "source activate awscli\n",
    "\n",
    "#\n",
    "# step 1: get the aws batch jobId from the gp jobId\n",
    "#\n",
    "jobId=$(aws batch list-jobs \\\n",
    "  '--job-queue' 'gpbeta-default' \\\n",
    "  '--job-status' 'FAILED' \\\n",
    "  '--query' \"jobSummaryList[?ends_with(jobName,\\`_$gpJobNo\\`) == \\`true\\`].{jobId:jobId}\" \\\n",
    "  '--output' 'text')\n",
    "echo jobId=$jobId\n",
    "aws batch describe-jobs --jobs $jobId\n",
    "\n",
    "# alternative queries\n",
    "# take 1\n",
    "#   '--query' 'jobSummaryList[?jobName==`GP_Job_11813`]'\n",
    "# take 2\n",
    "#   query=\"jobSummaryList[?jobName==\\`$jobName\\`]\"\n",
    "#   '--query' \"${query}\""
   ]
  },
  {
   "cell_type": "code",
   "execution_count": null,
   "metadata": {},
   "outputs": [],
   "source": [
    "%%bash -e\n",
    "\n",
    "#\n",
    "# list recently FAILED jobs\n",
    "#\n",
    "aws batch list-jobs --job-queue gpbeta-default \\\n",
    "  --job-status 'FAILED' \\\n",
    "  '--query' \"jobSummaryList[*].{jobId:jobId}\" \\\n",
    "  --output text \\\n",
    "| xargs -I{} \\\n",
    "  aws batch describe-jobs --jobs {} \\\n",
    "    --query \"jobs[*].{jobName:jobName,image:container.image,reason:container.reason}\" \\\n",
    "    --output text\n",
    "#    \\\n",
    "#    --output table"
   ]
  },
  {
   "cell_type": "markdown",
   "metadata": {},
   "source": [
    "## aws s3 commands"
   ]
  },
  {
   "cell_type": "markdown",
   "metadata": {},
   "source": [
    "### aws s3 sync\n",
    "\n",
    "template:  \n",
    "\n",
    "```bash\n",
    "aws s3 sync <LocalPath> <S3Uri> [--exclude exclude-pattern] [--include include-pattern] [aws-profile]\n",
    "```"
   ]
  },
  {
   "cell_type": "markdown",
   "metadata": {},
   "source": [
    "<div class=\"alert alert-block alert-info\">\n",
    "For the GenePattern AWS Batch integration, files are copied from the local file system to an S3 bucket with an optional prefix, e.g. <br/>\n",
    "&nbsp;&nbsp;&nbsp;&nbsp;<b>S3Prefix</b>=s3://gpbeta <br/><br/>\n",
    "The LocalPath is the fully qualified path on the server head node, e.g. <br/>\n",
    "&nbsp;&nbsp;&nbsp;&nbsp;<b>LocalPath</b>=/opt/gp/gp_home/jobResults/1 <br/><br/>\n",
    "The S3Uri is the S3Prefix prepended to the LocalPath, <br/>\n",
    "&nbsp;&nbsp;&nbsp;&nbsp;<b>S3Uri</b>=&lt;<b>S3Prefix</b>&gt;&lt;<b>LocalPath</b>&gt;, e.g.,<br/>\n",
    "&nbsp;&nbsp;&nbsp;&nbsp;<b>S3Uri</b>=s3://gpbeta/opt/gp/gp_home/jobResults/1 <br/>\n",
    "</div>"
   ]
  },
  {
   "cell_type": "markdown",
   "metadata": {},
   "source": [
    "See the [aws s3 reference](https://docs.aws.amazon.com/cli/latest/reference/s3/index.html) for more details about the [path-argument-type](https://docs.aws.amazon.com/cli/latest/reference/s3/index.html#path-argument-type)."
   ]
  },
  {
   "cell_type": "markdown",
   "metadata": {},
   "source": [
    "### directory upload  \n",
    "template:  \n",
    "\n",
    "```\n",
    "aws s3 sync <LocalPath> <S3Prefix><LocalPath> \n",
    "  --exclude \".DS_Store\" \n",
    "  --exclude \"*~\"\n",
    "\n",
    "```\n",
    "\n",
    "example:\n",
    "```\n",
    "localPath=\"/shared_data/gp_tutorial_files/all_aml\"\n",
    "s3Prefix=\"s3://gpbeta\"\n",
    "aws s3 sync \"${localPath}\" \"${s3Prefix}${localPath}\" \\\n",
    "  --exclude \".DS_Store\" \\\n",
    "  --exclude \"*~\"\n",
    "```"
   ]
  },
  {
   "cell_type": "markdown",
   "metadata": {},
   "source": [
    "### file upload  \n",
    "\n",
    "template:  \n",
    "\n",
    "```\n",
    "aws s3 sync <LocalDir> <S3Prefix><LocalDir> \\\n",
    "  --exclude \"*\" \\\n",
    "  --include \"<FileName>\" \\\n",
    "  [--profile <AwsProfile>]\n",
    "\n",
    "```\n",
    "\n",
    "example:  \n",
    "\n",
    "```\n",
    "aws s3 sync \\\n",
    "  /shared_data/gp_tutorial_files/all_aml \\\n",
    "  s3://gpbeta/shared_data/gp_tutorial_files/all_aml \\\n",
    "  --exclude \"*\" \\\n",
    "  --include all_aml_test.gct\n",
    "```\n",
    "\n",
    "example (with variables):  \n",
    "\n",
    "```\n",
    "localPath=\"/shared_data/gp_tutorial_files/all_aml/all_aml_test.gct\"\n",
    "localDir=\"/shared_data/gp_tutorial_files/all_aml\"\n",
    "fileName=\"all_aml_test.gct\"\n",
    "s3Prefix=\"s3://gpbeta\"\n",
    "\n",
    "aws s3 sync \\\n",
    "  \"${localDir}\" \\\n",
    "  \"${s3Prefix}${localDir}\" \\\n",
    "  --exclude \"*\" \\\n",
    "  --include \"${fileName}\"\n",
    "```\n"
   ]
  },
  {
   "cell_type": "markdown",
   "metadata": {},
   "source": [
    "### delete directory\n",
    "\n",
    "template:  \n",
    "```\n",
    "aws s3 rm <S3Uri> --recursive\n",
    "aws s3 rm <S3Prefix><LocalDir>\n",
    "```\n",
    "\n",
    "\n",
    "example:  \n",
    "\n",
    "```\n",
    "# init variables\n",
    "localDir=\"/shared_data/gp_tutorial_files/all_aml\"\n",
    "s3Prefix=\"s3://gpbeta\"\n",
    "s3Uri={s3Prefix}{localDir}\n",
    "\n",
    "# sanity check\n",
    "aws s3 ls s3Uri\n",
    "# check exitCode, expecting 0 when the directory exists\n",
    "echo ?*\n",
    "\n",
    "# remove the directory from s3\n",
    "aws s3 rm ${s3Uri} --recursive\n",
    "\n",
    "# sanity check\n",
    "aws s3 ls s3Uri\n",
    "# check exitCode, expecting non-zero when the directory does not exist\n",
    "echo ?*\n",
    "\n",
    "```\n"
   ]
  },
  {
   "cell_type": "markdown",
   "metadata": {},
   "source": [
    "## SQL Queries\n",
    "Connect to the MySQL database with the ```pymysql.cursors``` library.\n",
    "\n",
    "* see: https://pymysql.readthedocs.io/en/latest/index.html"
   ]
  },
  {
   "cell_type": "code",
   "execution_count": null,
   "metadata": {},
   "outputs": [],
   "source": [
    "#\n",
    "# Note: must change to actual credentials\n",
    "#\n",
    "db_host = \"my-db-host\"\n",
    "db_port = 3306\n",
    "db_user = \"mydbuser\"\n",
    "db_password = \"mydbpassword\"\n",
    "db_schema = \"mydbschema\"\n",
    "%who"
   ]
  },
  {
   "cell_type": "code",
   "execution_count": null,
   "metadata": {},
   "outputs": [],
   "source": [
    "import pymysql.cursors\n",
    "\n",
    "# connect to the database\n",
    "db = pymysql.connect(\n",
    "    host=db_host,\n",
    "    port=db_port,\n",
    "    user=db_user,\n",
    "    password=db_password,\n",
    "    db=db_schema\n",
    ")\n",
    "\n",
    "try:\n",
    "    with db.cursor() as cursor:\n",
    "        sql = \"SELECT user_id, email from gp_user\"\n",
    "        cursor.execute(sql)\n",
    "        result = cursor.fetchall();\n",
    "        print(result);\n",
    "finally:\n",
    "    connection.close()            "
   ]
  },
  {
   "cell_type": "markdown",
   "metadata": {},
   "source": [
    "## Parking lot\n",
    "Parking lot for example code and other snippets."
   ]
  },
  {
   "cell_type": "markdown",
   "metadata": {},
   "source": [
    "### (bash) command array"
   ]
  },
  {
   "cell_type": "code",
   "execution_count": null,
   "metadata": {},
   "outputs": [],
   "source": [
    "%%bash\n",
    "\n",
    "# declare command line as an array\n",
    "cmd=()\n",
    "\n",
    "# add items to cmd\n",
    "cmd=(${cmd[@]} \"echo\" \"Hello, World!\")\n",
    "\n",
    "# print the command\n",
    "echo \"Command args ...\"\n",
    "printf '    %s\\n' \"${cmd[@]}\"\n",
    "\n",
    "# run the command\n",
    "echo \"Running command ...\"\n",
    "\"${cmd[@]}\""
   ]
  },
  {
   "cell_type": "markdown",
   "metadata": {},
   "source": [
    "## Hints\n",
    "\n",
    "### list magics\n",
    "```\n",
    "%lsmagic\n",
    "```\n",
    "\n",
    "\n",
    "### display content in a colored block\n",
    "```html\n",
    "<div class=\"alert alert-block alert-info\">\n",
    "```\n",
    "\n",
    "### display README.md\n",
    "```\n",
    "from IPython.display import display, Markdown\n",
    "\n",
    "with open('README.md', 'r') as fh:\n",
    "    content = fh.read()\n",
    "\n",
    "display(Markdown(content))\n",
    "```"
   ]
  },
  {
   "cell_type": "markdown",
   "metadata": {},
   "source": [
    "## Links\n",
    "\n",
    "### AWS\n",
    "* See: https://docs.aws.amazon.com/cli/\n",
    "* See: https://docs.aws.amazon.com/cli/latest/reference/batch/index.html\n",
    "* See: https://docs.aws.amazon.com/cli/latest/userguide/controlling-output.html#controlling-output-filter\n",
    "* See: http://jmespath.org/specification.html\n",
    "* See: http://opensourceconnections.com/blog/2015/07/27/advanced-aws-cli-jmespath-query/\n",
    "* See:  https://docs.aws.amazon.com/cli/latest/userguide/cli-environment.html\n",
    "* See: https://docs.aws.amazon.com/cli/latest/reference/s3/index.html#path-argument-type\n",
    "* See: https://docs.aws.amazon.com/cli/latest/reference/s3/index.html\n",
    "* See: https://docs.aws.amazon.com/cli/latest/reference/s3/sync.html\n",
    "\n",
    "\n",
    "### Other\n",
    "* See: https://docs.python.org/3/\n",
    "* See: https://jupyter.readthedocs.io/en/latest/\n",
    "* See: https://jupyter-notebook.readthedocs.io/en/latest/\n",
    "* See: https://jupyter-notebook.readthedocs.io/en/latest/examples/Notebook/Working%20With%20Markdown%20Cells.html\n",
    "* See: https://datascience.ibm.com/docs/content/analyze-data/markd-jupyter.html\n",
    "* See: https://blog.dominodatalab.com/lesser-known-ways-of-using-notebooks/, example of how to use 'bash'\n",
    "* See: http://ipython.readthedocs.io/en/stable/interactive/magics.html\n"
   ]
  }
 ],
 "metadata": {
  "kernelspec": {
   "display_name": "Python 3",
   "language": "python",
   "name": "python3"
  },
  "language_info": {
   "codemirror_mode": {
    "name": "ipython",
    "version": 3
   },
   "file_extension": ".py",
   "mimetype": "text/x-python",
   "name": "python",
   "nbconvert_exporter": "python",
   "pygments_lexer": "ipython3",
   "version": "3.6.4"
  },
  "toc": {
   "nav_menu": {},
   "number_sections": false,
   "sideBar": true,
   "skip_h1_title": true,
   "toc_cell": false,
   "toc_position": {
    "height": "553px",
    "left": "0px",
    "right": "1354px",
    "top": "111px",
    "width": "235px"
   },
   "toc_section_display": "block",
   "toc_window_display": false
  },
  "varInspector": {
   "cols": {
    "lenName": 16,
    "lenType": 16,
    "lenVar": 40
   },
   "kernels_config": {
    "python": {
     "delete_cmd_postfix": "",
     "delete_cmd_prefix": "del ",
     "library": "var_list.py",
     "varRefreshCmd": "print(var_dic_list())"
    },
    "r": {
     "delete_cmd_postfix": ") ",
     "delete_cmd_prefix": "rm(",
     "library": "var_list.r",
     "varRefreshCmd": "cat(var_dic_list()) "
    }
   },
   "types_to_exclude": [
    "module",
    "function",
    "builtin_function_or_method",
    "instance",
    "_Feature"
   ],
   "window_display": false
  }
 },
 "nbformat": 4,
 "nbformat_minor": 2
}
